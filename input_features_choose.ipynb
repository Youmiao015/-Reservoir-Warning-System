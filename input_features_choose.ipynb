{
 "cells": [
  {
   "cell_type": "code",
   "execution_count": 20,
   "id": "initial_id",
   "metadata": {
    "collapsed": true,
    "ExecuteTime": {
     "end_time": "2024-04-21T10:16:35.531534100Z",
     "start_time": "2024-04-21T10:16:35.503525Z"
    }
   },
   "outputs": [],
   "source": [
    "import pandas as pd\n",
    "import matplotlib.pyplot as plt # this is used for the plot the graph \n",
    "plt.rcParams[\"figure.figsize\"] = (20,10)"
   ]
  },
  {
   "cell_type": "code",
   "outputs": [
    {
     "data": {
      "text/plain": "   Unnamed: 0 Province  City River Basin Surface                Time  \\\n0         458      河北省  石家庄市   滹沱河  海河流域    岗南水库 2020-11-08 08:00:00   \n1         463      河北省  石家庄市   滹沱河  海河流域    岗南水库 2020-11-08 12:00:00   \n2         467      河北省  石家庄市   滹沱河  海河流域    岗南水库 2020-11-08 16:00:00   \n3         472      河北省  石家庄市   滹沱河  海河流域    岗南水库 2020-11-08 20:00:00   \n4         478      河北省  石家庄市   滹沱河  海河流域    岗南水库 2020-11-09 00:00:00   \n\n  Water Quality Lever  Temperature    pH  Dissolved Oxygen  \\\n0                   Ⅱ         17.1  8.56              9.12   \n1                   Ⅱ         18.2  8.58              9.24   \n2                   Ⅱ         18.1  8.59              9.28   \n3                   Ⅱ         17.5  8.58              9.15   \n4                   Ⅱ         17.0  8.58              9.16   \n\n   Potassium permanganate index  ammonia nitrogen  total phosphorus  \\\n0                          2.31              0.06             0.022   \n1                          2.32              0.06             0.006   \n2                          2.33              0.06             0.018   \n3                          2.23              0.06             0.020   \n4                          2.28              0.06             0.020   \n\n   conductivity\\n  turbidity\\n  Total Nitrogen(last Surface) Season  Month  \\\n0           572.5          2.8                          4.20   Fall     11   \n1           568.7          2.4                          4.58   Fall     11   \n2           568.3          2.6                          4.56   Fall     11   \n3           571.7          2.7                          4.54   Fall     11   \n4           574.6          3.2                          4.48   Fall     11   \n\n   total nitrogen  \n0            2.54  \n1            2.80  \n2            2.65  \n3            2.59  \n4            2.58  ",
      "text/html": "<div>\n<style scoped>\n    .dataframe tbody tr th:only-of-type {\n        vertical-align: middle;\n    }\n\n    .dataframe tbody tr th {\n        vertical-align: top;\n    }\n\n    .dataframe thead th {\n        text-align: right;\n    }\n</style>\n<table border=\"1\" class=\"dataframe\">\n  <thead>\n    <tr style=\"text-align: right;\">\n      <th></th>\n      <th>Unnamed: 0</th>\n      <th>Province</th>\n      <th>City</th>\n      <th>River</th>\n      <th>Basin</th>\n      <th>Surface</th>\n      <th>Time</th>\n      <th>Water Quality Lever</th>\n      <th>Temperature</th>\n      <th>pH</th>\n      <th>Dissolved Oxygen</th>\n      <th>Potassium permanganate index</th>\n      <th>ammonia nitrogen</th>\n      <th>total phosphorus</th>\n      <th>conductivity\\n</th>\n      <th>turbidity\\n</th>\n      <th>Total Nitrogen(last Surface)</th>\n      <th>Season</th>\n      <th>Month</th>\n      <th>total nitrogen</th>\n    </tr>\n  </thead>\n  <tbody>\n    <tr>\n      <th>0</th>\n      <td>458</td>\n      <td>河北省</td>\n      <td>石家庄市</td>\n      <td>滹沱河</td>\n      <td>海河流域</td>\n      <td>岗南水库</td>\n      <td>2020-11-08 08:00:00</td>\n      <td>Ⅱ</td>\n      <td>17.1</td>\n      <td>8.56</td>\n      <td>9.12</td>\n      <td>2.31</td>\n      <td>0.06</td>\n      <td>0.022</td>\n      <td>572.5</td>\n      <td>2.8</td>\n      <td>4.20</td>\n      <td>Fall</td>\n      <td>11</td>\n      <td>2.54</td>\n    </tr>\n    <tr>\n      <th>1</th>\n      <td>463</td>\n      <td>河北省</td>\n      <td>石家庄市</td>\n      <td>滹沱河</td>\n      <td>海河流域</td>\n      <td>岗南水库</td>\n      <td>2020-11-08 12:00:00</td>\n      <td>Ⅱ</td>\n      <td>18.2</td>\n      <td>8.58</td>\n      <td>9.24</td>\n      <td>2.32</td>\n      <td>0.06</td>\n      <td>0.006</td>\n      <td>568.7</td>\n      <td>2.4</td>\n      <td>4.58</td>\n      <td>Fall</td>\n      <td>11</td>\n      <td>2.80</td>\n    </tr>\n    <tr>\n      <th>2</th>\n      <td>467</td>\n      <td>河北省</td>\n      <td>石家庄市</td>\n      <td>滹沱河</td>\n      <td>海河流域</td>\n      <td>岗南水库</td>\n      <td>2020-11-08 16:00:00</td>\n      <td>Ⅱ</td>\n      <td>18.1</td>\n      <td>8.59</td>\n      <td>9.28</td>\n      <td>2.33</td>\n      <td>0.06</td>\n      <td>0.018</td>\n      <td>568.3</td>\n      <td>2.6</td>\n      <td>4.56</td>\n      <td>Fall</td>\n      <td>11</td>\n      <td>2.65</td>\n    </tr>\n    <tr>\n      <th>3</th>\n      <td>472</td>\n      <td>河北省</td>\n      <td>石家庄市</td>\n      <td>滹沱河</td>\n      <td>海河流域</td>\n      <td>岗南水库</td>\n      <td>2020-11-08 20:00:00</td>\n      <td>Ⅱ</td>\n      <td>17.5</td>\n      <td>8.58</td>\n      <td>9.15</td>\n      <td>2.23</td>\n      <td>0.06</td>\n      <td>0.020</td>\n      <td>571.7</td>\n      <td>2.7</td>\n      <td>4.54</td>\n      <td>Fall</td>\n      <td>11</td>\n      <td>2.59</td>\n    </tr>\n    <tr>\n      <th>4</th>\n      <td>478</td>\n      <td>河北省</td>\n      <td>石家庄市</td>\n      <td>滹沱河</td>\n      <td>海河流域</td>\n      <td>岗南水库</td>\n      <td>2020-11-09 00:00:00</td>\n      <td>Ⅱ</td>\n      <td>17.0</td>\n      <td>8.58</td>\n      <td>9.16</td>\n      <td>2.28</td>\n      <td>0.06</td>\n      <td>0.020</td>\n      <td>574.6</td>\n      <td>3.2</td>\n      <td>4.48</td>\n      <td>Fall</td>\n      <td>11</td>\n      <td>2.58</td>\n    </tr>\n  </tbody>\n</table>\n</div>"
     },
     "execution_count": 21,
     "metadata": {},
     "output_type": "execute_result"
    }
   ],
   "source": [
    "df = pd.read_excel('data.xlsx')\n",
    "df.head()"
   ],
   "metadata": {
    "collapsed": false,
    "ExecuteTime": {
     "end_time": "2024-04-21T10:16:37.886821200Z",
     "start_time": "2024-04-21T10:16:37.188796900Z"
    }
   },
   "id": "6e74cba59ad90342",
   "execution_count": 21
  },
  {
   "cell_type": "code",
   "outputs": [
    {
     "name": "stdout",
     "output_type": "stream",
     "text": [
      "<class 'pandas.core.frame.DataFrame'>\n",
      "RangeIndex: 2627 entries, 0 to 2626\n",
      "Data columns (total 20 columns):\n",
      " #   Column                        Non-Null Count  Dtype         \n",
      "---  ------                        --------------  -----         \n",
      " 0   Unnamed: 0                    2627 non-null   int64         \n",
      " 1   Province                      2627 non-null   object        \n",
      " 2   City                          2627 non-null   object        \n",
      " 3   River                         2627 non-null   object        \n",
      " 4   Basin                         2627 non-null   object        \n",
      " 5   Surface                       2627 non-null   object        \n",
      " 6   Time                          2627 non-null   datetime64[ns]\n",
      " 7   Water Quality Lever           2627 non-null   object        \n",
      " 8   Temperature                   2627 non-null   float64       \n",
      " 9   pH                            2627 non-null   float64       \n",
      " 10  Dissolved Oxygen              2627 non-null   float64       \n",
      " 11  Potassium permanganate index  2605 non-null   float64       \n",
      " 12  ammonia nitrogen              2619 non-null   float64       \n",
      " 13  total phosphorus              2622 non-null   float64       \n",
      " 14  conductivity\n",
      "                 2627 non-null   float64       \n",
      " 15  turbidity\n",
      "                    2627 non-null   float64       \n",
      " 16  Total Nitrogen(last Surface)  2627 non-null   float64       \n",
      " 17  Season                        2627 non-null   object        \n",
      " 18  Month                         2627 non-null   int64         \n",
      " 19  total nitrogen                2627 non-null   float64       \n",
      "dtypes: datetime64[ns](1), float64(10), int64(2), object(7)\n",
      "memory usage: 410.6+ KB\n"
     ]
    }
   ],
   "source": [
    "df.info()"
   ],
   "metadata": {
    "collapsed": false,
    "ExecuteTime": {
     "end_time": "2024-04-21T10:16:37.900777500Z",
     "start_time": "2024-04-21T10:16:37.879832Z"
    }
   },
   "id": "8277a9f8e24cf11a",
   "execution_count": 22
  },
  {
   "cell_type": "code",
   "outputs": [
    {
     "data": {
      "text/plain": "Index(['Unnamed: 0', 'Province', 'City', 'River', 'Basin', 'Surface', 'Time',\n       'Water Quality Lever', 'Temperature', 'pH', 'Dissolved Oxygen',\n       'Potassium permanganate index', 'ammonia nitrogen', 'total phosphorus',\n       'conductivity\\n', 'turbidity\\n', 'Total Nitrogen(last Surface)',\n       'Season', 'Month', 'total nitrogen'],\n      dtype='object')"
     },
     "execution_count": 23,
     "metadata": {},
     "output_type": "execute_result"
    }
   ],
   "source": [
    "df.columns"
   ],
   "metadata": {
    "collapsed": false,
    "ExecuteTime": {
     "end_time": "2024-04-21T10:16:38.006775600Z",
     "start_time": "2024-04-21T10:16:37.896447300Z"
    }
   },
   "id": "898a41b9e660ba7a",
   "execution_count": 23
  },
  {
   "cell_type": "code",
   "outputs": [
    {
     "name": "stdout",
     "output_type": "stream",
     "text": [
      "['Fall' 'Winter' 'Spring' 'Summer']\n"
     ]
    }
   ],
   "source": [
    "print(df['Season'].unique())\n",
    "mapping_season = {\n",
    "    'Fall':0, 'Winter':1, 'Spring':2, 'Summer':3\n",
    "}\n",
    "df = df.replace({\"Season\": mapping_season})"
   ],
   "metadata": {
    "collapsed": false,
    "ExecuteTime": {
     "end_time": "2024-04-21T10:16:38.007778Z",
     "start_time": "2024-04-21T10:16:37.908775600Z"
    }
   },
   "id": "f6429a1e128b8475",
   "execution_count": 24
  },
  {
   "cell_type": "markdown",
   "source": [
    "drawing the correlation matrix"
   ],
   "metadata": {
    "collapsed": false
   },
   "id": "f57aefaa911d1e50"
  },
  {
   "cell_type": "code",
   "outputs": [
    {
     "ename": "ValueError",
     "evalue": "could not convert string to float: '河北省'",
     "output_type": "error",
     "traceback": [
      "\u001B[1;31m---------------------------------------------------------------------------\u001B[0m",
      "\u001B[1;31mValueError\u001B[0m                                Traceback (most recent call last)",
      "Cell \u001B[1;32mIn[25], line 4\u001B[0m\n\u001B[0;32m      2\u001B[0m \u001B[38;5;28;01mimport\u001B[39;00m \u001B[38;5;21;01mmatplotlib\u001B[39;00m\u001B[38;5;21;01m.\u001B[39;00m\u001B[38;5;21;01mpyplot\u001B[39;00m \u001B[38;5;28;01mas\u001B[39;00m \u001B[38;5;21;01mplt\u001B[39;00m\n\u001B[0;32m      3\u001B[0m sns\u001B[38;5;241m.\u001B[39mset(rc\u001B[38;5;241m=\u001B[39m{\u001B[38;5;124m'\u001B[39m\u001B[38;5;124mfigure.figsize\u001B[39m\u001B[38;5;124m'\u001B[39m:(\u001B[38;5;241m12\u001B[39m,\u001B[38;5;241m9\u001B[39m)})\n\u001B[1;32m----> 4\u001B[0m correlation \u001B[38;5;241m=\u001B[39m df\u001B[38;5;241m.\u001B[39mcorr()[:, \u001B[38;5;241m1\u001B[39m:]\n\u001B[0;32m      5\u001B[0m sns\u001B[38;5;241m.\u001B[39mheatmap(correlation, annot\u001B[38;5;241m=\u001B[39m\u001B[38;5;28;01mTrue\u001B[39;00m)\n",
      "File \u001B[1;32m~\\anaconda3\\Lib\\site-packages\\pandas\\core\\frame.py:10054\u001B[0m, in \u001B[0;36mDataFrame.corr\u001B[1;34m(self, method, min_periods, numeric_only)\u001B[0m\n\u001B[0;32m  10052\u001B[0m cols \u001B[38;5;241m=\u001B[39m data\u001B[38;5;241m.\u001B[39mcolumns\n\u001B[0;32m  10053\u001B[0m idx \u001B[38;5;241m=\u001B[39m cols\u001B[38;5;241m.\u001B[39mcopy()\n\u001B[1;32m> 10054\u001B[0m mat \u001B[38;5;241m=\u001B[39m data\u001B[38;5;241m.\u001B[39mto_numpy(dtype\u001B[38;5;241m=\u001B[39m\u001B[38;5;28mfloat\u001B[39m, na_value\u001B[38;5;241m=\u001B[39mnp\u001B[38;5;241m.\u001B[39mnan, copy\u001B[38;5;241m=\u001B[39m\u001B[38;5;28;01mFalse\u001B[39;00m)\n\u001B[0;32m  10056\u001B[0m \u001B[38;5;28;01mif\u001B[39;00m method \u001B[38;5;241m==\u001B[39m \u001B[38;5;124m\"\u001B[39m\u001B[38;5;124mpearson\u001B[39m\u001B[38;5;124m\"\u001B[39m:\n\u001B[0;32m  10057\u001B[0m     correl \u001B[38;5;241m=\u001B[39m libalgos\u001B[38;5;241m.\u001B[39mnancorr(mat, minp\u001B[38;5;241m=\u001B[39mmin_periods)\n",
      "File \u001B[1;32m~\\anaconda3\\Lib\\site-packages\\pandas\\core\\frame.py:1838\u001B[0m, in \u001B[0;36mDataFrame.to_numpy\u001B[1;34m(self, dtype, copy, na_value)\u001B[0m\n\u001B[0;32m   1836\u001B[0m \u001B[38;5;28;01mif\u001B[39;00m dtype \u001B[38;5;129;01mis\u001B[39;00m \u001B[38;5;129;01mnot\u001B[39;00m \u001B[38;5;28;01mNone\u001B[39;00m:\n\u001B[0;32m   1837\u001B[0m     dtype \u001B[38;5;241m=\u001B[39m np\u001B[38;5;241m.\u001B[39mdtype(dtype)\n\u001B[1;32m-> 1838\u001B[0m result \u001B[38;5;241m=\u001B[39m \u001B[38;5;28mself\u001B[39m\u001B[38;5;241m.\u001B[39m_mgr\u001B[38;5;241m.\u001B[39mas_array(dtype\u001B[38;5;241m=\u001B[39mdtype, copy\u001B[38;5;241m=\u001B[39mcopy, na_value\u001B[38;5;241m=\u001B[39mna_value)\n\u001B[0;32m   1839\u001B[0m \u001B[38;5;28;01mif\u001B[39;00m result\u001B[38;5;241m.\u001B[39mdtype \u001B[38;5;129;01mis\u001B[39;00m \u001B[38;5;129;01mnot\u001B[39;00m dtype:\n\u001B[0;32m   1840\u001B[0m     result \u001B[38;5;241m=\u001B[39m np\u001B[38;5;241m.\u001B[39marray(result, dtype\u001B[38;5;241m=\u001B[39mdtype, copy\u001B[38;5;241m=\u001B[39m\u001B[38;5;28;01mFalse\u001B[39;00m)\n",
      "File \u001B[1;32m~\\anaconda3\\Lib\\site-packages\\pandas\\core\\internals\\managers.py:1732\u001B[0m, in \u001B[0;36mBlockManager.as_array\u001B[1;34m(self, dtype, copy, na_value)\u001B[0m\n\u001B[0;32m   1730\u001B[0m         arr\u001B[38;5;241m.\u001B[39mflags\u001B[38;5;241m.\u001B[39mwriteable \u001B[38;5;241m=\u001B[39m \u001B[38;5;28;01mFalse\u001B[39;00m\n\u001B[0;32m   1731\u001B[0m \u001B[38;5;28;01melse\u001B[39;00m:\n\u001B[1;32m-> 1732\u001B[0m     arr \u001B[38;5;241m=\u001B[39m \u001B[38;5;28mself\u001B[39m\u001B[38;5;241m.\u001B[39m_interleave(dtype\u001B[38;5;241m=\u001B[39mdtype, na_value\u001B[38;5;241m=\u001B[39mna_value)\n\u001B[0;32m   1733\u001B[0m     \u001B[38;5;66;03m# The underlying data was copied within _interleave, so no need\u001B[39;00m\n\u001B[0;32m   1734\u001B[0m     \u001B[38;5;66;03m# to further copy if copy=True or setting na_value\u001B[39;00m\n\u001B[0;32m   1736\u001B[0m \u001B[38;5;28;01mif\u001B[39;00m na_value \u001B[38;5;129;01mis\u001B[39;00m \u001B[38;5;129;01mnot\u001B[39;00m lib\u001B[38;5;241m.\u001B[39mno_default:\n",
      "File \u001B[1;32m~\\anaconda3\\Lib\\site-packages\\pandas\\core\\internals\\managers.py:1794\u001B[0m, in \u001B[0;36mBlockManager._interleave\u001B[1;34m(self, dtype, na_value)\u001B[0m\n\u001B[0;32m   1792\u001B[0m     \u001B[38;5;28;01melse\u001B[39;00m:\n\u001B[0;32m   1793\u001B[0m         arr \u001B[38;5;241m=\u001B[39m blk\u001B[38;5;241m.\u001B[39mget_values(dtype)\n\u001B[1;32m-> 1794\u001B[0m     result[rl\u001B[38;5;241m.\u001B[39mindexer] \u001B[38;5;241m=\u001B[39m arr\n\u001B[0;32m   1795\u001B[0m     itemmask[rl\u001B[38;5;241m.\u001B[39mindexer] \u001B[38;5;241m=\u001B[39m \u001B[38;5;241m1\u001B[39m\n\u001B[0;32m   1797\u001B[0m \u001B[38;5;28;01mif\u001B[39;00m \u001B[38;5;129;01mnot\u001B[39;00m itemmask\u001B[38;5;241m.\u001B[39mall():\n",
      "\u001B[1;31mValueError\u001B[0m: could not convert string to float: '河北省'"
     ]
    }
   ],
   "source": [
    "import seaborn as sns\n",
    "sns.set(rc={'figure.figsize':(12,9)})\n",
    "correlation = df.corr()[:, 1:]\n",
    "sns.heatmap(correlation, annot=True) # use seaborn to draw the confusion matrix"
   ],
   "metadata": {
    "collapsed": false,
    "ExecuteTime": {
     "end_time": "2024-04-21T10:16:39.257376400Z",
     "start_time": "2024-04-21T10:16:39.187125100Z"
    }
   },
   "id": "7fc3419776cce0f7",
   "execution_count": 25
  },
  {
   "cell_type": "markdown",
   "source": [
    "The features that have a relevant correlation with the \"total nitrogen\" feature are :\n",
    "* Temperature -> -0.6\n",
    "* pH -> -0.52\n",
    "* Potassium permanganate index -> 0.44\n",
    "* Season -> -0.38<br>\n",
    "we also take the 'Time' feature and the target value which is 'total nitrogen'"
   ],
   "metadata": {
    "collapsed": false
   },
   "id": "279e02ad1188fd36"
  },
  {
   "cell_type": "code",
   "outputs": [],
   "source": [],
   "metadata": {
    "collapsed": false
   },
   "id": "76a6b0cb5e0c15ed"
  }
 ],
 "metadata": {
  "kernelspec": {
   "display_name": "Python 3",
   "language": "python",
   "name": "python3"
  },
  "language_info": {
   "codemirror_mode": {
    "name": "ipython",
    "version": 2
   },
   "file_extension": ".py",
   "mimetype": "text/x-python",
   "name": "python",
   "nbconvert_exporter": "python",
   "pygments_lexer": "ipython2",
   "version": "2.7.6"
  }
 },
 "nbformat": 4,
 "nbformat_minor": 5
}
